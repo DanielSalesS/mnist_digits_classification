{
 "cells": [
  {
   "cell_type": "markdown",
   "metadata": {},
   "source": [
    "# Pipeline de Dados"
   ]
  },
  {
   "cell_type": "markdown",
   "metadata": {},
   "source": [
    "Baixando, transformando e salvando os dados.\n"
   ]
  },
  {
   "cell_type": "code",
   "execution_count": 1,
   "metadata": {},
   "outputs": [],
   "source": [
    "import numpy as np\n",
    "import gzip\n",
    "import urllib.request\n",
    "import os"
   ]
  },
  {
   "cell_type": "code",
   "execution_count": 2,
   "metadata": {},
   "outputs": [],
   "source": [
    "def download_file(url,source_path):\n",
    "    out_file = source_path + url.split(\"/\")[-1]\n",
    "\n",
    "    # Download archive\n",
    "    try:\n",
    "        response =  urllib.request.urlopen(url)\n",
    "        with urllib.request.urlopen(url) as response:\n",
    "            with open(out_file, 'wb') as f:\n",
    "                f.write(response.read())\n",
    "\n",
    "    except Exception as e:\n",
    "        print(e)"
   ]
  },
  {
   "cell_type": "code",
   "execution_count": 3,
   "metadata": {},
   "outputs": [],
   "source": [
    "# Diretórios \n",
    "source_path = '../data/raw/'\n",
    "data_path = '../data/processed/'"
   ]
  },
  {
   "cell_type": "code",
   "execution_count": 4,
   "metadata": {},
   "outputs": [],
   "source": [
    "# Baixando os dados\n",
    "urls = [\n",
    "    'http://yann.lecun.com/exdb/mnist/train-images-idx3-ubyte.gz',\n",
    "    'http://yann.lecun.com/exdb/mnist/train-labels-idx1-ubyte.gz',\n",
    "    'http://yann.lecun.com/exdb/mnist/t10k-images-idx3-ubyte.gz',\n",
    "    'http://yann.lecun.com/exdb/mnist/t10k-labels-idx1-ubyte.gz'\n",
    "]\n",
    "\n",
    "for url in urls:\n",
    "    download_file(url,source_path)"
   ]
  },
  {
   "cell_type": "code",
   "execution_count": 5,
   "metadata": {},
   "outputs": [],
   "source": [
    "def load_mnist(path, kind='train'):\n",
    "   \n",
    "\n",
    "    \"\"\"Load MNIST data from `path`\"\"\"\n",
    "    labels_path = os.path.join(path,\n",
    "                               '%s-labels-idx1-ubyte.gz'\n",
    "                               % kind)\n",
    "    images_path = os.path.join(path,\n",
    "                               '%s-images-idx3-ubyte.gz'\n",
    "                               % kind)\n",
    "\n",
    "    with gzip.open(labels_path, 'rb') as lbpath:\n",
    "        labels = np.frombuffer(lbpath.read(), dtype=np.uint8,\n",
    "                               offset=8)\n",
    "\n",
    "    with gzip.open(images_path, 'rb') as imgpath:\n",
    "        images = np.frombuffer(imgpath.read(), dtype=np.uint8,\n",
    "                               offset=16)\n",
    "\n",
    "    return images, labels"
   ]
  },
  {
   "cell_type": "code",
   "execution_count": 6,
   "metadata": {},
   "outputs": [],
   "source": [
    "# Carregando, transformando e salvando os dados.\n",
    "train_images,train_labels=load_mnist(path = source_path, kind='train')\n",
    "train_images = train_images.reshape(len(train_labels),28,28)\n",
    "np.save(data_path+\"train_images.npy\", train_images)\n",
    "np.save(data_path+\"train_labels.npy\", train_labels)\n",
    "\n",
    "test_images,test_labels=load_mnist(path = source_path, kind='t10k')\n",
    "test_images = test_images.reshape(len(test_labels),28,28)\n",
    "np.save(data_path+\"test_images.npy\", test_images)\n",
    "np.save(data_path+\"test_labels.npy\", test_labels)\n"
   ]
  },
  {
   "cell_type": "code",
   "execution_count": 7,
   "metadata": {},
   "outputs": [
    {
     "name": "stdout",
     "output_type": "stream",
     "text": [
      "train_images: (60000, 28, 28)\n",
      "train_labels: (60000,)\n",
      "test_images: (10000, 28, 28)\n",
      "test_labels: (10000,)\n"
     ]
    }
   ],
   "source": [
    "# Estrutura dos dados\n",
    "print(\"train_images:\",train_images.shape)\n",
    "print(\"train_labels:\",train_labels.shape)\n",
    "print(\"test_images:\",test_images.shape)\n",
    "print(\"test_labels:\",test_labels.shape)"
   ]
  }
 ],
 "metadata": {
  "interpreter": {
   "hash": "916dbcbb3f70747c44a77c7bcd40155683ae19c65e1c03b4aa3499c5328201f1"
  },
  "kernelspec": {
   "display_name": "Python 3.8.10 64-bit",
   "name": "python3"
  },
  "language_info": {
   "codemirror_mode": {
    "name": "ipython",
    "version": 3
   },
   "file_extension": ".py",
   "mimetype": "text/x-python",
   "name": "python",
   "nbconvert_exporter": "python",
   "pygments_lexer": "ipython3",
   "version": "3.8.10"
  },
  "orig_nbformat": 4
 },
 "nbformat": 4,
 "nbformat_minor": 2
}
